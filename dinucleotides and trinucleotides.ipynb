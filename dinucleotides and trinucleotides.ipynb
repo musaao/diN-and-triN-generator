{
 "cells": [
  {
   "cell_type": "code",
   "execution_count": 1,
   "id": "d332fcc5",
   "metadata": {},
   "outputs": [],
   "source": [
    "# to create list of dinucleotides and trinucleotides "
   ]
  },
  {
   "cell_type": "code",
   "execution_count": 2,
   "id": "4160d9e5",
   "metadata": {},
   "outputs": [],
   "source": [
    "nucl = \"ATGC\""
   ]
  },
  {
   "cell_type": "code",
   "execution_count": 3,
   "id": "4eb61c3f",
   "metadata": {},
   "outputs": [],
   "source": [
    "#create list for dinucleotides and trinucleotides\n",
    "diNs = []\n",
    "triNs = []"
   ]
  },
  {
   "cell_type": "code",
   "execution_count": 4,
   "id": "15ad7070",
   "metadata": {},
   "outputs": [
    {
     "name": "stdout",
     "output_type": "stream",
     "text": [
      "16\n",
      "['AA', 'AT', 'AG', 'AC', 'TA', 'TT', 'TG', 'TC', 'GA', 'GT', 'GG', 'GC', 'CA', 'CT', 'CG', 'CC']\n"
     ]
    }
   ],
   "source": [
    "#select each nucleotides\n",
    "total_diN = 0\n",
    "for x in nucl:\n",
    "    #print(x)\n",
    "    \n",
    "    #for each nucleotides, join all possible nucletides to it, append to the list and count\n",
    "    i = 0\n",
    "    while i < len(nucl):\n",
    "        diN = ''.join((x, nucl[i]))\n",
    "        #print(diN)\n",
    "        \n",
    "        #check if diN is not in list before appending and counting\n",
    "        if diN not in diNs:   \n",
    "            diNs.append(diN)\n",
    "            \n",
    "        #continue while loop    \n",
    "        i += 1\n",
    "        total_diN  += 1\n",
    "\n",
    "print(total_diN)\n",
    "print(diNs)"
   ]
  },
  {
   "cell_type": "code",
   "execution_count": null,
   "id": "4bbd604d",
   "metadata": {},
   "outputs": [],
   "source": []
  },
  {
   "cell_type": "code",
   "execution_count": 5,
   "id": "a71d4d7b",
   "metadata": {},
   "outputs": [],
   "source": [
    "#since we are creating a 3 letter combination, diNs would be used in place of single nucleotides"
   ]
  },
  {
   "cell_type": "code",
   "execution_count": 6,
   "id": "55ae24c2",
   "metadata": {},
   "outputs": [
    {
     "name": "stdout",
     "output_type": "stream",
     "text": [
      "64\n",
      "['AAA', 'AAT', 'AAG', 'AAC', 'ATA', 'ATT', 'ATG', 'ATC', 'AGA', 'AGT', 'AGG', 'AGC', 'ACA', 'ACT', 'ACG', 'ACC', 'TAA', 'TAT', 'TAG', 'TAC', 'TTA', 'TTT', 'TTG', 'TTC', 'TGA', 'TGT', 'TGG', 'TGC', 'TCA', 'TCT', 'TCG', 'TCC', 'GAA', 'GAT', 'GAG', 'GAC', 'GTA', 'GTT', 'GTG', 'GTC', 'GGA', 'GGT', 'GGG', 'GGC', 'GCA', 'GCT', 'GCG', 'GCC', 'CAA', 'CAT', 'CAG', 'CAC', 'CTA', 'CTT', 'CTG', 'CTC', 'CGA', 'CGT', 'CGG', 'CGC', 'CCA', 'CCT', 'CCG', 'CCC']\n"
     ]
    }
   ],
   "source": [
    "#select each nucleotides\n",
    "total_triN = 0\n",
    "for x in diNs:\n",
    "    #print(x)\n",
    "    \n",
    "    #for each nucleotides, join all possible nucletides to it and count total\n",
    "    i = 0\n",
    "    while i < len(nucl):\n",
    "        triN = ''.join((x, nucl[i]))\n",
    "        #print(triN)\n",
    "        \n",
    "        #check if triN is not in list before appending and counting\n",
    "        if triN not in triNs: \n",
    "            triNs.append(triN)\n",
    "        \n",
    "        #continue while loop\n",
    "        i += 1\n",
    "        total_triN  += 1\n",
    "    \n",
    "print(total_triN)\n",
    "print(triNs)"
   ]
  },
  {
   "cell_type": "code",
   "execution_count": null,
   "id": "83e883e8",
   "metadata": {},
   "outputs": [],
   "source": []
  }
 ],
 "metadata": {
  "kernelspec": {
   "display_name": "Python 3 (ipykernel)",
   "language": "python",
   "name": "python3"
  },
  "language_info": {
   "codemirror_mode": {
    "name": "ipython",
    "version": 3
   },
   "file_extension": ".py",
   "mimetype": "text/x-python",
   "name": "python",
   "nbconvert_exporter": "python",
   "pygments_lexer": "ipython3",
   "version": "3.8.13"
  }
 },
 "nbformat": 4,
 "nbformat_minor": 5
}
